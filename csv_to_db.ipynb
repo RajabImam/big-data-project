{
 "cells": [
  {
   "cell_type": "code",
   "execution_count": 1,
   "metadata": {},
   "outputs": [],
   "source": [
    "import os\n",
    "import numpy as np\n",
    "import pandas as pd\n",
    "import psycopg2\n",
    "\n"
   ]
  },
  {
   "cell_type": "code",
   "execution_count": 2,
   "metadata": {},
   "outputs": [
    {
     "data": {
      "text/html": [
       "<div>\n",
       "<style scoped>\n",
       "    .dataframe tbody tr th:only-of-type {\n",
       "        vertical-align: middle;\n",
       "    }\n",
       "\n",
       "    .dataframe tbody tr th {\n",
       "        vertical-align: top;\n",
       "    }\n",
       "\n",
       "    .dataframe thead th {\n",
       "        text-align: right;\n",
       "    }\n",
       "</style>\n",
       "<table border=\"1\" class=\"dataframe\">\n",
       "  <thead>\n",
       "    <tr style=\"text-align: right;\">\n",
       "      <th></th>\n",
       "      <th>customer_name</th>\n",
       "      <th>start_date</th>\n",
       "      <th>end_date</th>\n",
       "      <th>contract_amount_m</th>\n",
       "      <th>invoice_sent</th>\n",
       "      <th>paid</th>\n",
       "    </tr>\n",
       "  </thead>\n",
       "  <tbody>\n",
       "    <tr>\n",
       "      <th>0</th>\n",
       "      <td>Nike</td>\n",
       "      <td>01-02-2019</td>\n",
       "      <td>12-20-2020</td>\n",
       "      <td>2.98</td>\n",
       "      <td>Yes</td>\n",
       "      <td>Yes</td>\n",
       "    </tr>\n",
       "    <tr>\n",
       "      <th>1</th>\n",
       "      <td>Reebox</td>\n",
       "      <td>06-20-2017</td>\n",
       "      <td>NaN</td>\n",
       "      <td>3.90</td>\n",
       "      <td>No</td>\n",
       "      <td>No</td>\n",
       "    </tr>\n",
       "    <tr>\n",
       "      <th>2</th>\n",
       "      <td>Adidas</td>\n",
       "      <td>12-07-2015</td>\n",
       "      <td>6-20-2018</td>\n",
       "      <td>4.82</td>\n",
       "      <td>Yes</td>\n",
       "      <td>Yes</td>\n",
       "    </tr>\n",
       "    <tr>\n",
       "      <th>3</th>\n",
       "      <td>Google</td>\n",
       "      <td>05-25-2014</td>\n",
       "      <td>03-20-2017</td>\n",
       "      <td>5.74</td>\n",
       "      <td>Yes</td>\n",
       "      <td>No</td>\n",
       "    </tr>\n",
       "    <tr>\n",
       "      <th>4</th>\n",
       "      <td>Amazon</td>\n",
       "      <td>11-10-2012</td>\n",
       "      <td>12-20-2015</td>\n",
       "      <td>6.66</td>\n",
       "      <td>No</td>\n",
       "      <td>Yes</td>\n",
       "    </tr>\n",
       "  </tbody>\n",
       "</table>\n",
       "</div>"
      ],
      "text/plain": [
       "  customer_name  start_date    end_date  contract_amount_m invoice_sent paid\n",
       "0          Nike  01-02-2019  12-20-2020               2.98          Yes  Yes\n",
       "1        Reebox  06-20-2017         NaN               3.90           No   No\n",
       "2        Adidas  12-07-2015   6-20-2018               4.82          Yes  Yes\n",
       "3        Google  05-25-2014  03-20-2017               5.74          Yes   No\n",
       "4        Amazon  11-10-2012  12-20-2015               6.66           No  Yes"
      ]
     },
     "execution_count": 2,
     "metadata": {},
     "output_type": "execute_result"
    }
   ],
   "source": [
    "df = pd.read_csv('Customer Contracts$.csv')\n",
    "df.head()"
   ]
  },
  {
   "cell_type": "code",
   "execution_count": 3,
   "metadata": {},
   "outputs": [
    {
     "data": {
      "text/plain": [
       "'customer_contracts'"
      ]
     },
     "execution_count": 3,
     "metadata": {},
     "output_type": "execute_result"
    }
   ],
   "source": [
    "#clean our file name, all lower-case, remove white spaces and replace unecessary with fine \n",
    "raw_file = \"Customer Contracts$\"\n",
    "raw_to_formatted_file = raw_file.lower().replace(\" \", \"_\").replace(\"-\",\"_\").replace(r\"/\",\"_\").replace(\"\\\\\",\"_\").replace(\"$\",\"\").replace(\"%\",\"\")\n",
    "raw_to_formatted_file\n"
   ]
  },
  {
   "cell_type": "code",
   "execution_count": 5,
   "metadata": {},
   "outputs": [
    {
     "data": {
      "text/plain": [
       "Index(['customer_name', 'start_date', 'end_date', 'contract_amount_m',\n",
       "       'invoice_sent', 'paid'],\n",
       "      dtype='object')"
      ]
     },
     "execution_count": 5,
     "metadata": {},
     "output_type": "execute_result"
    }
   ],
   "source": [
    "#clean our data columns, all lower-case, remove white spaces and replace unecessary with fine \n",
    "df.columns = [x.lower().replace(\" \", \"_\").replace(\"-\",\"_\").replace(r\"/\",\"_\").replace(\"\\\\\",\"_\").replace(\"$\",\"\").replace(\"%\",\"\") for x in df.columns]\n",
    "df.columns"
   ]
  },
  {
   "cell_type": "code",
   "execution_count": null,
   "metadata": {},
   "outputs": [],
   "source": [
    "create table customer_contracts\n",
    "(\n",
    "    customer_name           varchar,\n",
    "    start_date              varchar,\n",
    "    end_date                varchar,\n",
    "    contract_amount_m       float,\n",
    "    invoice_sent            varchar,\n",
    "    paid                    varchar\n",
    ");"
   ]
  },
  {
   "cell_type": "code",
   "execution_count": 6,
   "metadata": {},
   "outputs": [
    {
     "data": {
      "text/plain": [
       "customer_name         object\n",
       "start_date            object\n",
       "end_date              object\n",
       "contract_amount_m    float64\n",
       "invoice_sent          object\n",
       "paid                  object\n",
       "dtype: object"
      ]
     },
     "execution_count": 6,
     "metadata": {},
     "output_type": "execute_result"
    }
   ],
   "source": [
    "df.dtypes"
   ]
  },
  {
   "cell_type": "code",
   "execution_count": 7,
   "metadata": {},
   "outputs": [
    {
     "data": {
      "text/plain": [
       "{'timedelta64[ns]': 'varchar',\n",
       " 'object': 'varchar',\n",
       " 'float64': 'float',\n",
       " 'int64': 'int',\n",
       " 'datetime64': 'timestamp'}"
      ]
     },
     "execution_count": 7,
     "metadata": {},
     "output_type": "execute_result"
    }
   ],
   "source": [
    " #processing data, changing the data type of raw data from object to a sql recognised data types\n",
    "change_datatype = {\n",
    "        'timedelta64[ns]': 'varchar',\n",
    "        'object': 'varchar',\n",
    "        'float64': 'float',\n",
    "        'int64': 'int',\n",
    "        'datetime64': 'timestamp'\n",
    "    }\n",
    "change_datatype"
   ]
  },
  {
   "cell_type": "code",
   "execution_count": 8,
   "metadata": {},
   "outputs": [
    {
     "data": {
      "text/plain": [
       "'customer_name varchar, start_date varchar, end_date varchar, contract_amount_m float, invoice_sent varchar, paid varchar'"
      ]
     },
     "execution_count": 8,
     "metadata": {},
     "output_type": "execute_result"
    }
   ],
   "source": [
    "#replacing the columns and their respetcive data type from panda to sql\n",
    "col_str = \", \".join(\"{} {}\".format(n, d) for (n, d) in zip(df.columns, df.dtypes.replace(change_datatype)))\n",
    "col_str"
   ]
  },
  {
   "cell_type": "code",
   "execution_count": 11,
   "metadata": {},
   "outputs": [
    {
     "name": "stdout",
     "output_type": "stream",
     "text": [
      "DB Connection established successfully\n"
     ]
    }
   ],
   "source": [
    "#open database connection\n",
    "conn_string = \"host='localhost'dbname='bigdata'user='postgres'password='Reason@2010'\"\n",
    "conn = psycopg2.connect(conn_string)\n",
    "cursor = conn.cursor()\n",
    "print(\"DB Connection established successfully\")"
   ]
  },
  {
   "cell_type": "code",
   "execution_count": 12,
   "metadata": {},
   "outputs": [],
   "source": [
    "#drop tables with same name\n",
    "cursor.execute(\"drop table if exists customer_contracts;\")"
   ]
  },
  {
   "cell_type": "code",
   "execution_count": 13,
   "metadata": {},
   "outputs": [],
   "source": [
    "#create a table\n",
    "cursor.execute(\"create table customer_contracts (customer_name varchar, start_date varchar, end_date varchar, contract_amount_m float, invoice_sent varchar, paid varchar)\")"
   ]
  },
  {
   "cell_type": "code",
   "execution_count": 14,
   "metadata": {},
   "outputs": [
    {
     "name": "stdout",
     "output_type": "stream",
     "text": [
      "File open in memory\n"
     ]
    }
   ],
   "source": [
    "#insert into the table and save df to csv, open csv and upload to db\n",
    "df.to_csv('customer_contracts.csv', header=df.columns, index=False, encoding='utf-8')\n",
    "my_file = open('customer_contracts.csv')\n",
    "print(\"File open in memory\")\n",
    "\n"
   ]
  },
  {
   "cell_type": "code",
   "execution_count": 15,
   "metadata": {},
   "outputs": [
    {
     "name": "stdout",
     "output_type": "stream",
     "text": [
      "file uploaded to db\n"
     ]
    }
   ],
   "source": [
    "#upload to db\n",
    "SQL_STATEMENT = \"\"\"\n",
    "    COPY customer_contracts FROM STDIN WITH\n",
    "        CSV\n",
    "        HEADER\n",
    "        DELIMITER AS ','\n",
    "    \"\"\"\n",
    "cursor.copy_expert(sql=SQL_STATEMENT, file=my_file)\n",
    "print(\"file uploaded to db\")"
   ]
  },
  {
   "cell_type": "code",
   "execution_count": 16,
   "metadata": {},
   "outputs": [
    {
     "name": "stdout",
     "output_type": "stream",
     "text": [
      "data upload to db completed\n"
     ]
    }
   ],
   "source": [
    "#permission on db in case of multiple users optional\n",
    "cursor.execute(\"grant select on customer_contracts to public\")\n",
    "conn.commit()\n",
    "\n",
    "cursor.close()\n",
    "print(\"data upload to db completed\")"
   ]
  }
 ],
 "metadata": {
  "interpreter": {
   "hash": "077edfc5853e54c35d5b5eecd838c22bd10a451d497116886efdba8478eedaac"
  },
  "kernelspec": {
   "display_name": "Python 3.8.1 ('py1')",
   "language": "python",
   "name": "python3"
  },
  "language_info": {
   "codemirror_mode": {
    "name": "ipython",
    "version": 3
   },
   "file_extension": ".py",
   "mimetype": "text/x-python",
   "name": "python",
   "nbconvert_exporter": "python",
   "pygments_lexer": "ipython3",
   "version": "3.8.1"
  },
  "orig_nbformat": 4
 },
 "nbformat": 4,
 "nbformat_minor": 2
}
